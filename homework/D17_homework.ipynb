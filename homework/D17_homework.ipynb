{
 "cells": [
  {
   "cell_type": "markdown",
   "metadata": {
    "id": "9ckBC4qSFJ2u"
   },
   "source": [
    "作業⽬標：\n",
    "• 了解效能優化⽅法"
   ]
  },
  {
   "cell_type": "markdown",
   "metadata": {
    "id": "wkssN_r7UT2o"
   },
   "source": [
    "作業重點：\n",
    "• 優化有很多⾯相可以切入，⽬前可以先以投影片⽅法為主"
   ]
  },
  {
   "cell_type": "markdown",
   "metadata": {
    "id": "8EK9ei8pFNNd"
   },
   "source": [
    "1. 在速度較慢的時候，可以先從哪邊開始檢查？\n",
    "\n",
    "有三個方法帶給大家，可以大幅減少程式的執行時間\n",
    "\n",
    "讀取資料型態選最快速的\n",
    "多使用內建函數\n",
    "向量化的資料處理\n",
    "\n",
    "\n",
    "\n",
    "2. 資料過⼤時應採取什麼⽅式讓記憶體占⽤量下降？\n",
    "\n",
    "此時我們可以將欄位的型態降級，不需要存太多元素在一個數字中"
   ]
  }
 ],
 "metadata": {
  "colab": {
   "authorship_tag": "ABX9TyOn1jxinLqgoqr5zj+PC82T",
   "collapsed_sections": [],
   "name": "作業題目.ipynb",
   "provenance": []
  },
  "kernelspec": {
   "display_name": "Python 3",
   "language": "python",
   "name": "python3"
  },
  "language_info": {
   "codemirror_mode": {
    "name": "ipython",
    "version": 3
   },
   "file_extension": ".py",
   "mimetype": "text/x-python",
   "name": "python",
   "nbconvert_exporter": "python",
   "pygments_lexer": "ipython3",
   "version": "3.8.5"
  }
 },
 "nbformat": 4,
 "nbformat_minor": 1
}
